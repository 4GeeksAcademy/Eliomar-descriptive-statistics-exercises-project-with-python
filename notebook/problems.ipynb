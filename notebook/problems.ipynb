{
    "cells": [
        {
            "cell_type": "markdown",
            "id": "ac622319",
            "metadata": {},
            "source": [
                "# Descriptive statistics problems"
            ]
        },
        {
            "cell_type": "markdown",
            "id": "aa8993e4",
            "metadata": {},
            "source": [
                "### Exercise 1"
            ]
        },
        {
            "cell_type": "markdown",
            "id": "5e0ab0d5",
            "metadata": {},
            "source": [
                "We will use Numpy to obtain information to describe statistically.\n",
                "\n",
                "- Generate an array of 100 elements following a normal distribution.\n",
                "- Generate an array of 100 elements following a chi-square distribution with 3 degrees of freedom.\n",
                "- Calculate the main metrics and statistical measures that best describe the two vectors."
            ]
        },
        {
            "cell_type": "code",
            "execution_count": null,
            "metadata": {},
            "outputs": [],
            "source": []
        },
        {
            "cell_type": "code",
            "execution_count": 5,
            "id": "34720ab6",
            "metadata": {},
            "outputs": [],
            "source": [
                "import numpy as np\n",
                "import math\n",
                "import pandas as pd\n",
                "import statistics as stats"
            ]
        },
        {
            "cell_type": "code",
            "execution_count": 6,
            "metadata": {},
            "outputs": [
                {
                    "name": "stdout",
                    "output_type": "stream",
                    "text": [
                        "[ 0.91054652 -0.69232483 -1.42650407  0.38778217 -1.84477202  0.43289011\n",
                        "  0.77577073 -1.1184876   0.49463648 -0.93613083 -0.38923795  0.1912899\n",
                        "  0.0334705  -0.17881287 -0.71565798  0.49915399  0.84966739 -2.44665077\n",
                        " -0.1315463  -1.59232799 -1.7113125   0.93618373 -0.59200476  0.84203403\n",
                        " -1.47274767  2.40302878  1.8192205  -0.55771841 -1.06954757  1.86387756\n",
                        "  1.29014238  0.79000875 -1.11961285  1.57008147  0.77423662 -0.24684921\n",
                        "  0.00461752  0.4174297  -0.27891898 -0.01744265  2.36092956 -2.09711389\n",
                        " -0.1749682  -1.18043604 -0.13039715 -0.53072371  1.04610009 -0.51933668\n",
                        "  0.1399513  -0.33050353  0.03934657  1.27186438  0.26160387  1.73122283\n",
                        " -1.03575381 -0.32640748  0.15187498 -0.1916069  -0.80310866  0.72977339\n",
                        " -0.06378906 -0.33431896  0.44531681 -0.40851517 -1.03633969  0.45309255\n",
                        " -0.84156089 -0.72645602 -0.1798736  -0.19610795 -0.05091819 -0.31206886\n",
                        " -0.49583595 -0.39774402  0.26504757  1.33631611  1.43737624  1.31354394\n",
                        "  1.11391359 -0.55191685  0.6036637  -0.86804096  0.46101939 -1.0808258\n",
                        "  1.54959621 -1.65998318 -0.2520962   1.54501217 -0.22688285 -1.28568545\n",
                        " -0.92999821  0.52973463 -0.15555579  0.11609228  1.01461397 -0.39056155\n",
                        " -0.54802872  0.62162193  0.03884579 -1.28472847]\n"
                    ]
                }
            ],
            "source": [
                "normal_array = np.random.normal(size= 100)\n",
                "print(normal_array)"
            ]
        },
        {
            "cell_type": "code",
            "execution_count": 7,
            "metadata": {},
            "outputs": [
                {
                    "name": "stdout",
                    "output_type": "stream",
                    "text": [
                        "[ 0.39558094  4.73900643  3.58400014  9.96097646  2.37221     4.93926637\n",
                        "  2.79839636  5.07320075  2.93001503  1.70803055  5.16287171  1.40158509\n",
                        "  0.19539844  5.56054523  4.57711793  3.28121176  8.18321585  4.0374709\n",
                        "  4.22556203  1.15844018  2.20166593  1.11291685  2.07883621  0.48171623\n",
                        "  1.89610654  0.91223157  4.92866188  1.5985256   1.0653372   0.26358815\n",
                        "  4.84409348  1.19930789 14.54198938  1.50184439  1.68743461  5.39665902\n",
                        "  3.15575782  1.04699321  0.68025311  3.06079645  3.18028683  0.78393164\n",
                        "  1.17992803  1.69933095  2.02411086 11.23153095  0.70758771  0.9453687\n",
                        "  2.93944532  2.53232103  3.31022482  0.95505658  6.34789698  1.22983838\n",
                        "  1.59535853  4.73681989  2.03951074  0.89779031  4.27464721  1.58099452\n",
                        "  1.24470062  1.61708855  0.94104197  6.36085318  0.70085359  2.10956097\n",
                        "  1.4514488   1.53580187  3.64048038  1.32196222  2.70448666  2.25668223\n",
                        "  6.64705055  0.23807788  1.79789459 12.20998686  4.09075723  1.80050075\n",
                        "  6.1722473   6.47486216  4.70806262  0.51809073  5.16884743  4.19286659\n",
                        "  4.97678474  3.74076212  3.80950648  9.95017864  1.75636492  1.85099947\n",
                        "  1.8850161   2.02254908  0.27723954  7.01094869  2.94799877  3.78646893\n",
                        "  3.80569324  7.76781337  2.86905908  3.87085201]\n"
                    ]
                }
            ],
            "source": [
                "chisquare_array = np.random.chisquare(3, 100)\n",
                "print(chisquare_array)"
            ]
        },
        {
            "cell_type": "code",
            "execution_count": 8,
            "id": "1f6c62d0",
            "metadata": {},
            "outputs": [
                {
                    "name": "stdout",
                    "output_type": "stream",
                    "text": [
                        "Normal mean: -0.022732535400247354\n",
                        "Chi mean: 3.263632385347118\n",
                        "Normal median: -0.14355104320798723\n",
                        "Chi median: 2.4522655150715282\n",
                        "Normal mode: 0.9105465158538257\n",
                        "Chi mode: 0.3955809391272627\n"
                    ]
                }
            ],
            "source": [
                "\n",
                "print(f\"Normal mean: {stats.mean(normal_array)}\")\n",
                "print(f\"Chi mean: {stats.mean(chisquare_array)}\")\n",
                "\n",
                "print(f\"Normal median: {stats.median(normal_array)}\")\n",
                "print(f\"Chi median: {stats.median(chisquare_array)}\")\n",
                "\n",
                "print(f\"Normal mode: {stats.mode(normal_array)}\")\n",
                "print(f\"Chi mode: {stats.mode(chisquare_array)}\")"
            ]
        },
        {
            "cell_type": "markdown",
            "id": "46c70c3d",
            "metadata": {},
            "source": [
                "### Exercise 2\n",
                "\n",
                "Write a Python program to calculate the standard deviation of the following data:\n",
                "\n",
                "```py\n",
                "data = [4, 2, 5, 8, 6]\n",
                "```"
            ]
        },
        {
            "cell_type": "code",
            "execution_count": 25,
            "id": "d590308e",
            "metadata": {},
            "outputs": [
                {
                    "name": "stdout",
                    "output_type": "stream",
                    "text": [
                        "2.23606797749979\n",
                        "Standard Deviation: 2.23606797749979\n"
                    ]
                }
            ],
            "source": [
                "data = [4,2,5,8,6]\n",
                "\n",
                "def st_dev(data):\n",
                "    n = len(data)\n",
                "    if (n <= 1):\n",
                "        return data[0]\n",
                "    mean = sum(data)/n\n",
                "    var = sum((x - mean) ** 2 for x in data) / (n -1)\n",
                "    st_dev = math.sqrt(var)\n",
                "    return st_dev\n",
                "\n",
                "\n",
                "\n",
                "print(st_dev(data))\n",
                "\n",
                "data = [4, 2, 5, 8, 6]\n",
                "std_dev = stats.stdev(data)\n",
                "\n",
                "print(\"Standard Deviation:\", std_dev)\n",
                "\n",
                "    \n",
                "\n",
                "\n",
                "\n",
                "\n",
                "\n",
                "\n"
            ]
        }
    ],
    "metadata": {
        "interpreter": {
            "hash": "9248718ffe6ce6938b217e69dbcc175ea21f4c6b28a317e96c05334edae734bb"
        },
        "kernelspec": {
            "display_name": "Python 3.9.12 ('ML-BOOTCAMP')",
            "language": "python",
            "name": "python3"
        },
        "language_info": {
            "codemirror_mode": {
                "name": "ipython",
                "version": 3
            },
            "file_extension": ".py",
            "mimetype": "text/x-python",
            "name": "python",
            "nbconvert_exporter": "python",
            "pygments_lexer": "ipython3",
            "version": "3.11.4"
        }
    },
    "nbformat": 4,
    "nbformat_minor": 5
}

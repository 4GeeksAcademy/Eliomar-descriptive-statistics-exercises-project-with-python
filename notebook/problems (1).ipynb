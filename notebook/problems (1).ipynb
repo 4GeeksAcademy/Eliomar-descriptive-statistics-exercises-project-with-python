{
    "cells": [
        {
            "cell_type": "markdown",
            "id": "ac622319",
            "metadata": {},
            "source": [
                "# Descriptive statistics problems"
            ]
        },
        {
            "cell_type": "markdown",
            "id": "aa8993e4",
            "metadata": {},
            "source": [
                "### Exercise 1"
            ]
        },
        {
            "cell_type": "markdown",
            "id": "5e0ab0d5",
            "metadata": {},
            "source": [
                "We will use Numpy to obtain information to describe statistically.\n",
                "\n",
                "- Generate an array of 100 elements following a normal distribution.\n",
                "- Generate an array of 100 elements following a chi-square distribution with 3 degrees of freedom.\n",
                "- Calculate the main metrics and statistical measures that best describe the two vectors."
            ]
        },
        {
            "cell_type": "code",
            "execution_count": null,
            "metadata": {},
            "outputs": [],
            "source": []
        },
        {
            "cell_type": "code",
            "execution_count": 24,
            "id": "34720ab6",
            "metadata": {},
            "outputs": [],
            "source": [
                "import numpy as np\n",
                "import math\n",
                "import pandas as pd\n",
                "import statistics as stats"
            ]
        },
        {
            "cell_type": "code",
            "execution_count": 4,
            "metadata": {},
            "outputs": [
                {
                    "name": "stdout",
                    "output_type": "stream",
                    "text": [
                        "[-0.30529543  1.31860252 -0.07363148  0.26485888 -0.53892484  1.39655218\n",
                        " -0.62967839 -0.47814073 -0.78511372  0.72476588 -1.76498967  0.17137725\n",
                        "  0.07189722 -0.27050032 -0.06285187 -1.08720373 -2.00337476 -0.83489104\n",
                        " -0.07943751  0.50579712  0.58712686  0.40555624 -1.08555536 -0.37780593\n",
                        " -1.90729865 -1.76711488 -0.30305061  1.54309297  0.47367697  1.85406546\n",
                        " -0.70223924 -0.09828806  0.97116765 -1.00275474 -0.69656501 -0.01717563\n",
                        "  0.0650259  -1.01294317 -0.14419767  0.56734171  0.43137033  2.07702823\n",
                        "  0.15037858  0.27663875 -0.58291268  3.54443347 -0.94299292  0.85585878\n",
                        "  1.37873772 -0.01282957  1.4943487  -1.60459846  2.81873621  1.01160053\n",
                        " -1.84902898  1.37916415 -0.13277035 -0.27419708 -0.1707581   1.48467938\n",
                        "  1.2629964  -1.34287961 -0.67792855  0.15035002  0.51424822 -0.4663673\n",
                        " -1.92789174  0.15569343 -0.95405879 -0.65361069  0.86518594 -1.7199128\n",
                        "  1.41186385 -1.15897025 -0.75174035 -0.81712995 -0.88484924 -0.04330966\n",
                        " -0.47946325 -1.52235576 -1.02508939  1.49096263 -0.60599792 -0.03026393\n",
                        "  1.07177341  2.43589747  0.22333076 -0.81130963 -0.77513134 -1.24283589\n",
                        "  2.04159869  2.2198473  -0.13657905  0.2508818   0.12062512 -0.52695495\n",
                        "  0.34276714 -0.82069071 -0.18195947  0.52097135]\n"
                    ]
                }
            ],
            "source": [
                "normal_array = np.random.normal(size= 100)\n",
                "print(normal_array)"
            ]
        },
        {
            "cell_type": "code",
            "execution_count": 6,
            "metadata": {},
            "outputs": [
                {
                    "name": "stdout",
                    "output_type": "stream",
                    "text": [
                        "[ 4.13759525  2.29252189  1.32888746  3.66099637  6.51746683  2.70650587\n",
                        "  4.88520964  2.57563393  1.10624003  3.7303594   9.5512222   5.69560615\n",
                        "  2.48388069  2.68143859  2.40498338  1.64873292  0.93809468  2.137108\n",
                        "  4.04560145  2.10541925  1.79376938  3.36588673  3.4632544   5.41347452\n",
                        "  1.32209973  2.47004124  3.04744212  4.12854317  1.62497703  1.85069611\n",
                        "  7.11908601  1.43680808  1.27388095  2.71323048  0.70455562  1.30109998\n",
                        "  7.65859491  3.71223784  2.88653449 10.38523982  0.69824716  1.2375689\n",
                        "  0.54446831  0.29665092  7.71123118  5.67537334  2.89814508 10.43297284\n",
                        "  0.31754714  6.41522338  1.70296047  5.37075003  0.478887    7.87085004\n",
                        "  1.84302034  0.64033018  6.86421083  2.44669749  3.90849588  0.64204503\n",
                        "  1.95802523  1.50023628  1.6458247   0.9593896   2.63117114  1.05794712\n",
                        "  0.71427391  0.22382072  4.88827076  1.32218555  1.4046741   3.06195776\n",
                        "  5.65758412  0.96949606  0.68862822  3.61240848  2.02026625  3.40535571\n",
                        "  4.99443929  1.44198994  2.01893894  6.42671121  1.88898057  5.47258333\n",
                        " 12.77848183  1.73340491  2.81903611  6.41028724  0.43683665  2.48597386\n",
                        "  0.05155778  2.02026402  1.74442632  1.60911197 10.58151121  1.46241654\n",
                        "  1.64164996  5.35450745  5.07370233  2.57959452]\n"
                    ]
                }
            ],
            "source": [
                "chisquare_array = np.random.chisquare(3, 100)\n",
                "print(chisquare_array)"
            ]
        },
        {
            "cell_type": "markdown",
            "id": "46c70c3d",
            "metadata": {},
            "source": [
                "### Exercise 2\n",
                "\n",
                "Write a Python program to calculate the standard deviation of the following data:\n",
                "\n",
                "```py\n",
                "data = [4, 2, 5, 8, 6]\n",
                "```"
            ]
        },
        {
            "cell_type": "code",
            "execution_count": 25,
            "id": "d590308e",
            "metadata": {},
            "outputs": [
                {
                    "name": "stdout",
                    "output_type": "stream",
                    "text": [
                        "2.23606797749979\n",
                        "Standard Deviation: 2.23606797749979\n"
                    ]
                }
            ],
            "source": [
                "data = [4,2,5,8,6]\n",
                "\n",
                "def st_dev(data):\n",
                "    n = len(data)\n",
                "    if (n <= 1):\n",
                "        return data[0]\n",
                "    mean = sum(data)/n\n",
                "    var = sum((x - mean) ** 2 for x in data) / (n -1)\n",
                "    st_dev = math.sqrt(var)\n",
                "    return st_dev\n",
                "\n",
                "\n",
                "\n",
                "print(st_dev(data))\n",
                "\n",
                "data = [4, 2, 5, 8, 6]\n",
                "std_dev = stats.stdev(data)\n",
                "\n",
                "print(\"Standard Deviation:\", std_dev)\n",
                "\n",
                "    \n",
                "\n",
                "\n",
                "\n",
                "\n",
                "\n",
                "\n"
            ]
        }
    ],
    "metadata": {
        "interpreter": {
            "hash": "9248718ffe6ce6938b217e69dbcc175ea21f4c6b28a317e96c05334edae734bb"
        },
        "kernelspec": {
            "display_name": "Python 3.9.12 ('ML-BOOTCAMP')",
            "language": "python",
            "name": "python3"
        },
        "language_info": {
            "codemirror_mode": {
                "name": "ipython",
                "version": 3
            },
            "file_extension": ".py",
            "mimetype": "text/x-python",
            "name": "python",
            "nbconvert_exporter": "python",
            "pygments_lexer": "ipython3",
            "version": "3.11.4"
        }
    },
    "nbformat": 4,
    "nbformat_minor": 5
}
